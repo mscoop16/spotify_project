{
 "cells": [
  {
   "cell_type": "code",
   "execution_count": 1,
   "metadata": {},
   "outputs": [],
   "source": [
    "import pickle"
   ]
  },
  {
   "cell_type": "code",
   "execution_count": 2,
   "metadata": {},
   "outputs": [],
   "source": [
    "import pandas as pd\n",
    "from sklearn.feature_extraction.text import TfidfVectorizer\n",
    "import nltk\n",
    "from sklearn.metrics.pairwise import cosine_similarity\n",
    "import numpy as np\n",
    "from model.emotions_bayes import EmotionsNaiveBayes\n",
    "from emotions_dataset_tfidf import EmotionsDatasetTFIDF\n",
    "from spotify_dataset import SpotifyDataset"
   ]
  },
  {
   "cell_type": "code",
   "execution_count": 3,
   "metadata": {},
   "outputs": [],
   "source": [
    "spotify = SpotifyDataset('data/spotify_millsongdata.csv')"
   ]
  },
  {
   "cell_type": "code",
   "execution_count": 4,
   "metadata": {},
   "outputs": [
    {
     "name": "stderr",
     "output_type": "stream",
     "text": [
      "[nltk_data] Downloading package punkt to\n",
      "[nltk_data]     /Users/pratiknadipelli/nltk_data...\n",
      "[nltk_data]   Package punkt is already up-to-date!\n"
     ]
    }
   ],
   "source": [
    "with open('bayes_data.pkl', 'rb') as inp:\n",
    "    label_predictor = pickle.load(inp)"
   ]
  },
  {
   "cell_type": "code",
   "execution_count": 5,
   "metadata": {},
   "outputs": [],
   "source": [
    "# song_choice = input('Enter a song: ')\n",
    "# neighbors = input('How many similar songs would you like?: ')\n",
    "\n",
    "# Find and print k most similar songs to the user\n",
    "song_index = spotify.get_index_from_title(\"Someone Like You\")\n",
    "\n",
    "neighbor_indices = label_predictor.get_recommendations(song_index, int(10))"
   ]
  },
  {
   "cell_type": "code",
   "execution_count": 6,
   "metadata": {},
   "outputs": [
    {
     "name": "stdout",
     "output_type": "stream",
     "text": [
      "Similar Songs!\n",
      "0: Lick It Up\n",
      "1: Beside You\n",
      "2: Thunderhead\n",
      "3: Bodysnatchers\n",
      "4: A Boy's Best Friend\n",
      "5: Only In Miami\n",
      "6: Our Diabolical Rapture\n",
      "7: The Family Ghost\n",
      "8: Badman's Song\n",
      "9: Fall At Your Feet\n"
     ]
    }
   ],
   "source": [
    "print('Similar Songs!')\n",
    "for i, idx in enumerate(neighbor_indices):\n",
    "    print(f'{i}:', spotify.get_title(idx))"
   ]
  }
 ],
 "metadata": {
  "kernelspec": {
   "display_name": "env",
   "language": "python",
   "name": "python3"
  },
  "language_info": {
   "codemirror_mode": {
    "name": "ipython",
    "version": 3
   },
   "file_extension": ".py",
   "mimetype": "text/x-python",
   "name": "python",
   "nbconvert_exporter": "python",
   "pygments_lexer": "ipython3",
   "version": "3.11.6"
  },
  "orig_nbformat": 4
 },
 "nbformat": 4,
 "nbformat_minor": 2
}
